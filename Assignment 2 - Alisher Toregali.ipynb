{
 "cells": [
  {
   "cell_type": "code",
   "execution_count": 1,
   "id": "e73ebeac",
   "metadata": {},
   "outputs": [],
   "source": [
    "%config IPCompleter.greedy=True\n",
    "import re\n",
    "import json\n",
    "from collections import defaultdict\n",
    "from tqdm import tqdm_notebook as tqdm\n",
    "from elasticsearch import Elasticsearch\n",
    "from elasticsearch.helpers import parallel_bulk\n",
    "from elasticsearch.helpers import bulk\n",
    "from sklearn.feature_extraction.text import CountVectorizer\n",
    "import requests\n",
    "from time import time\n",
    "import csv\n",
    "import pandas as pd"
   ]
  },
  {
   "cell_type": "code",
   "execution_count": 2,
   "id": "4fae8e30",
   "metadata": {},
   "outputs": [],
   "source": [
    "es = Elasticsearch(\"http://localhost:9200\")"
   ]
  },
  {
   "cell_type": "code",
   "execution_count": 2,
   "id": "a30c9c38",
   "metadata": {},
   "outputs": [
    {
     "data": {
      "text/plain": [
       "ObjectApiResponse({'name': 'instance-0000000000', 'cluster_name': '46a9997bfc6e432fa697326f49c83b81', 'cluster_uuid': 'DYLCEqnyQNq1uGMkzCFsGg', 'version': {'number': '8.6.2', 'build_flavor': 'default', 'build_type': 'docker', 'build_hash': '2d58d0f136141f03239816a4e360a8d17b6d8f29', 'build_date': '2023-02-13T09:35:20.314882762Z', 'build_snapshot': False, 'lucene_version': '9.4.2', 'minimum_wire_compatibility_version': '7.17.0', 'minimum_index_compatibility_version': '7.0.0'}, 'tagline': 'You Know, for Search'})"
      ]
     },
     "execution_count": 2,
     "metadata": {},
     "output_type": "execute_result"
    }
   ],
   "source": [
    "from elasticsearch import Elasticsearch\n",
    "\n",
    "ELASTIC_PASSWORD = 'VnZeIgOGEy9dXmGP4SGoJgTM'\n",
    "\n",
    "# Found in the 'Manage Deployment' page\n",
    "CLOUD_ID = 'My_deployment:dXMtY2VudHJhbDEuZ2NwLmNsb3VkLmVzLmlvOjQ0MyQ0NmE5OTk3YmZjNmU0MzJmYTY5NzMyNmY0OWM4M2I4MSRjMTQyZmNjMjk5Y2M0NWI5ODFjYTI5ZWVkMTI5NmE1YQ=='\n",
    "# Create the client instance\n",
    "es = Elasticsearch(\n",
    "    cloud_id = CLOUD_ID,\n",
    "    basic_auth=('elastic', ELASTIC_PASSWORD)\n",
    ")\n",
    "\n",
    "# Successful response!\n",
    "es.info()\n",
    "# {'name': 'instance-0000000000', 'cluster_name': ...}"
   ]
  },
  {
   "cell_type": "code",
   "execution_count": 4,
   "id": "ed1fdffa",
   "metadata": {},
   "outputs": [
    {
     "data": {
      "text/plain": [
       "ObjectApiResponse({'acknowledged': True, 'shards_acknowledged': True, 'index': 'words'})"
      ]
     },
     "execution_count": 4,
     "metadata": {},
     "output_type": "execute_result"
    }
   ],
   "source": [
    "es.indices.create(index='words')"
   ]
  },
  {
   "cell_type": "code",
   "execution_count": 3,
   "id": "517d53cd",
   "metadata": {},
   "outputs": [
    {
     "data": {
      "text/plain": [
       "ObjectApiResponse({'acknowledged': True})"
      ]
     },
     "execution_count": 3,
     "metadata": {},
     "output_type": "execute_result"
    }
   ],
   "source": [
    "es.indices.delete(index='words')"
   ]
  },
  {
   "cell_type": "code",
   "execution_count": 5,
   "id": "f209cc7f",
   "metadata": {},
   "outputs": [],
   "source": [
    "def recreate_index_stem():\n",
    "    es.indices.delete(index='words')\n",
    "    es.indices.create(index='words', body = settings_stem)"
   ]
  },
  {
   "cell_type": "code",
   "execution_count": 6,
   "id": "f5534c77",
   "metadata": {},
   "outputs": [],
   "source": [
    "def recreate_index_nostem():\n",
    "    es.indices.delete(index='words')\n",
    "    es.indices.create(index='words', body = settings_nostem)"
   ]
  },
  {
   "cell_type": "code",
   "execution_count": 7,
   "id": "3e0843af",
   "metadata": {},
   "outputs": [],
   "source": [
    "def check_analyzer(analyzer, text):\n",
    "    body = analyzer\n",
    "    body['text'] = text\n",
    "    \n",
    "    tokens = es.indices.analyze(index='words', body=body)['tokens']\n",
    "    tokens = [token_info['token'] for token_info in tokens]\n",
    "    return tokens"
   ]
  },
  {
   "cell_type": "code",
   "execution_count": 8,
   "id": "867c36b9",
   "metadata": {},
   "outputs": [],
   "source": [
    "settings_stem = {\n",
    "    'mappings': {\n",
    "        'properties': {\n",
    "            'id_right': {\n",
    "                'type': 'integer'\n",
    "            },\n",
    "            'text_right': {\n",
    "                'type': 'text',\n",
    "                'fields': {\n",
    "                    'analyze':{\n",
    "                        'type': 'text',\n",
    "                        'analyzer': 'my_analyzer'\n",
    "                    }\n",
    "                }\n",
    "            }\n",
    "        }\n",
    "    },\n",
    "    'settings': {\n",
    "        'analysis': {\n",
    "            'analyzer': {\n",
    "                'my_analyzer':{\n",
    "                    'type': 'custom',\n",
    "                    'tokenizer': 'white_20',\n",
    "                    'filter': [\n",
    "                        'lowercase',\n",
    "                        'english_snow'\n",
    "                    ]\n",
    "                }\n",
    "            },\n",
    "            'tokenizer': {\n",
    "                'white_20': {\n",
    "                    'type': 'whitespace',\n",
    "                }\n",
    "            },\n",
    "            'filter': {\n",
    "                'english_snow':{\n",
    "                    'type': 'snowball',\n",
    "                    'language': 'english'\n",
    "                }\n",
    "            }\n",
    "        }\n",
    "    }\n",
    "    \n",
    "}"
   ]
  },
  {
   "cell_type": "code",
   "execution_count": 9,
   "id": "fa6f23d0",
   "metadata": {},
   "outputs": [],
   "source": [
    "settings_nostem = {\n",
    "    'mappings': {\n",
    "        'properties': {\n",
    "            'id_right': {\n",
    "                'type': 'integer'\n",
    "            },\n",
    "            'text_right': {\n",
    "                'type': 'text',\n",
    "                'fields': {\n",
    "                    'analyze':{\n",
    "                        'type': 'text',\n",
    "                        'analyzer': 'my_analyzer'\n",
    "                    }\n",
    "                }\n",
    "            },\n",
    "        }\n",
    "    },\n",
    "    'settings': {\n",
    "        'analysis': {\n",
    "            'analyzer': {\n",
    "                'my_analyzer':{\n",
    "                    'tokenizer': 'white_20',\n",
    "                    'filter': [\n",
    "                        'lowercase',\n",
    "                    ]\n",
    "                }\n",
    "            },\n",
    "            'tokenizer': {\n",
    "                'white_20': {\n",
    "                    'type': 'whitespace',\n",
    "                }\n",
    "            },\n",
    "        }\n",
    "    }\n",
    "}"
   ]
  },
  {
   "cell_type": "code",
   "execution_count": 18,
   "id": "c0814910",
   "metadata": {},
   "outputs": [],
   "source": [
    "stemming_state = 1"
   ]
  },
  {
   "cell_type": "code",
   "execution_count": 19,
   "id": "6c3c3169",
   "metadata": {},
   "outputs": [
    {
     "name": "stderr",
     "output_type": "stream",
     "text": [
      "C:\\Users\\Admin\\AppData\\Local\\Temp\\ipykernel_17908\\1436192701.py:3: DeprecationWarning: The 'body' parameter is deprecated and will be removed in a future version. Instead use individual parameters.\n",
      "  es.indices.create(index='words', body = settings_stem)\n"
     ]
    }
   ],
   "source": [
    "if stemming_state == 0:\n",
    "    recreate_index_nostem()\n",
    "elif stemming_state == 1:\n",
    "    recreate_index_stem()"
   ]
  },
  {
   "cell_type": "code",
   "execution_count": 20,
   "id": "9796365c",
   "metadata": {},
   "outputs": [],
   "source": [
    "df = pd.read_csv('documents.csv')\n",
    "data = df.to_dict('records')"
   ]
  },
  {
   "cell_type": "code",
   "execution_count": 21,
   "id": "b627d48e",
   "metadata": {},
   "outputs": [],
   "source": [
    "def create_es_action(index, doc_id, document):\n",
    "    return {\n",
    "        '_index': index,\n",
    "        '_id': doc_id,\n",
    "        '_source': document\n",
    "    }\n",
    "\n",
    "def es_actions_generator():\n",
    "    for doc in data:\n",
    "        yield create_es_action('words', doc['id_right'], doc)"
   ]
  },
  {
   "cell_type": "code",
   "execution_count": 22,
   "id": "93f08cbd",
   "metadata": {},
   "outputs": [],
   "source": [
    "for ok, result in parallel_bulk(es, es_actions_generator(), queue_size=4, thread_count=4, chunk_size=1000,request_timeout = 30):\n",
    "    if not ok:\n",
    "        print(result)"
   ]
  },
  {
   "cell_type": "code",
   "execution_count": 23,
   "id": "99bf8822",
   "metadata": {},
   "outputs": [],
   "source": [
    "def search(query, *args):\n",
    "    pretty_print_result(es.search(index='words', body=query, size=20), args)\n",
    "    # note that size set to 20 just because default value is 10 and we know that we have 12 docs and 10 < 12 < 20\n",
    "                        \n",
    "def pretty_print_result(search_result, fields=[]):\n",
    "    # fields is a list of fields names which we want to be printed\n",
    "    res = search_result['hits']\n",
    "    print(f'Total documents: {res[\"total\"][\"value\"]}')\n",
    "    for hit in res['hits']:\n",
    "        print(f'Doc {hit[\"_id\"]}, score is {hit[\"_score\"]}')\n",
    "        for field in fields:\n",
    "            print(f'{field}: {hit[\"_source\"][field]}')\n",
    "                  \n",
    "def get_doc_by_id(doc_id):\n",
    "    return es.get(index='words', id=doc_id)['_source']"
   ]
  },
  {
   "cell_type": "code",
   "execution_count": 24,
   "id": "ae45c7d4",
   "metadata": {},
   "outputs": [
    {
     "name": "stderr",
     "output_type": "stream",
     "text": [
      "C:\\Users\\Admin\\AppData\\Local\\Temp\\ipykernel_17908\\3128239079.py:2: DeprecationWarning: The 'body' parameter is deprecated and will be removed in a future version. Instead use individual parameters.\n",
      "  pretty_print_result(es.search(index='words', body=query, size=20), args)\n"
     ]
    },
    {
     "name": "stdout",
     "output_type": "stream",
     "text": [
      "Total documents: 10000\n",
      "Doc 1989873, score is 1.0\n",
      "Doc 1613252, score is 1.0\n",
      "Doc 1977968, score is 1.0\n",
      "Doc 2393398, score is 1.0\n",
      "Doc 2130313, score is 1.0\n",
      "Doc 452881, score is 1.0\n",
      "Doc 971484, score is 1.0\n",
      "Doc 2353459, score is 1.0\n",
      "Doc 468120, score is 1.0\n",
      "Doc 128703, score is 1.0\n",
      "Doc 2148630, score is 1.0\n",
      "Doc 700387, score is 1.0\n",
      "Doc 1043518, score is 1.0\n",
      "Doc 1032761, score is 1.0\n",
      "Doc 1954602, score is 1.0\n",
      "Doc 2434740, score is 1.0\n",
      "Doc 963878, score is 1.0\n",
      "Doc 1325554, score is 1.0\n",
      "Doc 754475, score is 1.0\n",
      "Doc 147434, score is 1.0\n"
     ]
    }
   ],
   "source": [
    "query = {\n",
    "    'query': {\n",
    "        'match_all': {}\n",
    "    }\n",
    "}\n",
    "\n",
    "search(query)"
   ]
  },
  {
   "cell_type": "code",
   "execution_count": 25,
   "id": "28549308",
   "metadata": {},
   "outputs": [],
   "source": [
    "text = 'the final round was held in rio de janeiro brazil the following is the brazilian roster in the 2008 fivb volleyball world league the following is the roster in the 2008 fivb volleyball world league the following is the roster in the 2008 fivb volleyball world league the following is the roster in the 2008 fivb volleyball world league the following is the roster in the 2008 fivb volleyball world league the following is the roster in the 2008 fivb volleyball world league the following is the roster in the 2008 fivb volleyball world league the following is the roster in the 2008 fivb volleyball world league the following is the roster in the 2008 fivb volleyball world league the following is the roster in the 2008 fivb volleyball world league the following is the roster in the 2008 fivb volleyball world league the following is the roster in the 2008 fivb volleyball world league the following is the roster in the 2008 fivb volleyball world league the following is the roster in the 2008 fivb volleyball world league the following is the roster in the 2008 fivb volleyball world league the following is the roster in the 2008 fivb'"
   ]
  },
  {
   "cell_type": "code",
   "execution_count": 26,
   "id": "4a224fa3",
   "metadata": {},
   "outputs": [
    {
     "name": "stderr",
     "output_type": "stream",
     "text": [
      "C:\\Users\\Admin\\AppData\\Local\\Temp\\ipykernel_17908\\2247034190.py:5: DeprecationWarning: The 'body' parameter is deprecated and will be removed in a future version. Instead use individual parameters.\n",
      "  tokens = es.indices.analyze(index='words', body=body)['tokens']\n"
     ]
    },
    {
     "data": {
      "text/plain": [
       "['the',\n",
       " 'final',\n",
       " 'round',\n",
       " 'was',\n",
       " 'held',\n",
       " 'in',\n",
       " 'rio',\n",
       " 'de',\n",
       " 'janeiro',\n",
       " 'brazil',\n",
       " 'the',\n",
       " 'follow',\n",
       " 'is',\n",
       " 'the',\n",
       " 'brazilian',\n",
       " 'roster',\n",
       " 'in',\n",
       " 'the',\n",
       " '2008',\n",
       " 'fivb',\n",
       " 'volleybal',\n",
       " 'world',\n",
       " 'leagu',\n",
       " 'the',\n",
       " 'follow',\n",
       " 'is',\n",
       " 'the',\n",
       " 'roster',\n",
       " 'in',\n",
       " 'the',\n",
       " '2008',\n",
       " 'fivb',\n",
       " 'volleybal',\n",
       " 'world',\n",
       " 'leagu',\n",
       " 'the',\n",
       " 'follow',\n",
       " 'is',\n",
       " 'the',\n",
       " 'roster',\n",
       " 'in',\n",
       " 'the',\n",
       " '2008',\n",
       " 'fivb',\n",
       " 'volleybal',\n",
       " 'world',\n",
       " 'leagu',\n",
       " 'the',\n",
       " 'follow',\n",
       " 'is',\n",
       " 'the',\n",
       " 'roster',\n",
       " 'in',\n",
       " 'the',\n",
       " '2008',\n",
       " 'fivb',\n",
       " 'volleybal',\n",
       " 'world',\n",
       " 'leagu',\n",
       " 'the',\n",
       " 'follow',\n",
       " 'is',\n",
       " 'the',\n",
       " 'roster',\n",
       " 'in',\n",
       " 'the',\n",
       " '2008',\n",
       " 'fivb',\n",
       " 'volleybal',\n",
       " 'world',\n",
       " 'leagu',\n",
       " 'the',\n",
       " 'follow',\n",
       " 'is',\n",
       " 'the',\n",
       " 'roster',\n",
       " 'in',\n",
       " 'the',\n",
       " '2008',\n",
       " 'fivb',\n",
       " 'volleybal',\n",
       " 'world',\n",
       " 'leagu',\n",
       " 'the',\n",
       " 'follow',\n",
       " 'is',\n",
       " 'the',\n",
       " 'roster',\n",
       " 'in',\n",
       " 'the',\n",
       " '2008',\n",
       " 'fivb',\n",
       " 'volleybal',\n",
       " 'world',\n",
       " 'leagu',\n",
       " 'the',\n",
       " 'follow',\n",
       " 'is',\n",
       " 'the',\n",
       " 'roster',\n",
       " 'in',\n",
       " 'the',\n",
       " '2008',\n",
       " 'fivb',\n",
       " 'volleybal',\n",
       " 'world',\n",
       " 'leagu',\n",
       " 'the',\n",
       " 'follow',\n",
       " 'is',\n",
       " 'the',\n",
       " 'roster',\n",
       " 'in',\n",
       " 'the',\n",
       " '2008',\n",
       " 'fivb',\n",
       " 'volleybal',\n",
       " 'world',\n",
       " 'leagu',\n",
       " 'the',\n",
       " 'follow',\n",
       " 'is',\n",
       " 'the',\n",
       " 'roster',\n",
       " 'in',\n",
       " 'the',\n",
       " '2008',\n",
       " 'fivb',\n",
       " 'volleybal',\n",
       " 'world',\n",
       " 'leagu',\n",
       " 'the',\n",
       " 'follow',\n",
       " 'is',\n",
       " 'the',\n",
       " 'roster',\n",
       " 'in',\n",
       " 'the',\n",
       " '2008',\n",
       " 'fivb',\n",
       " 'volleybal',\n",
       " 'world',\n",
       " 'leagu',\n",
       " 'the',\n",
       " 'follow',\n",
       " 'is',\n",
       " 'the',\n",
       " 'roster',\n",
       " 'in',\n",
       " 'the',\n",
       " '2008',\n",
       " 'fivb',\n",
       " 'volleybal',\n",
       " 'world',\n",
       " 'leagu',\n",
       " 'the',\n",
       " 'follow',\n",
       " 'is',\n",
       " 'the',\n",
       " 'roster',\n",
       " 'in',\n",
       " 'the',\n",
       " '2008',\n",
       " 'fivb',\n",
       " 'volleybal',\n",
       " 'world',\n",
       " 'leagu',\n",
       " 'the',\n",
       " 'follow',\n",
       " 'is',\n",
       " 'the',\n",
       " 'roster',\n",
       " 'in',\n",
       " 'the',\n",
       " '2008',\n",
       " 'fivb',\n",
       " 'volleybal',\n",
       " 'world',\n",
       " 'leagu',\n",
       " 'the',\n",
       " 'follow',\n",
       " 'is',\n",
       " 'the',\n",
       " 'roster',\n",
       " 'in',\n",
       " 'the',\n",
       " '2008',\n",
       " 'fivb',\n",
       " 'volleybal',\n",
       " 'world',\n",
       " 'leagu',\n",
       " 'the',\n",
       " 'follow',\n",
       " 'is',\n",
       " 'the',\n",
       " 'roster',\n",
       " 'in',\n",
       " 'the',\n",
       " '2008',\n",
       " 'fivb']"
      ]
     },
     "execution_count": 26,
     "metadata": {},
     "output_type": "execute_result"
    }
   ],
   "source": [
    "analyzer = {\n",
    "    'analyzer': 'my_analyzer'\n",
    "}\n",
    "\n",
    "check_analyzer(analyzer, text)\n"
   ]
  },
  {
   "cell_type": "code",
   "execution_count": 27,
   "id": "ff0c640f",
   "metadata": {
    "scrolled": true
   },
   "outputs": [
    {
     "name": "stderr",
     "output_type": "stream",
     "text": [
      "C:\\Users\\Admin\\AppData\\Local\\Temp\\ipykernel_17908\\3128239079.py:2: DeprecationWarning: The 'body' parameter is deprecated and will be removed in a future version. Instead use individual parameters.\n",
      "  pretty_print_result(es.search(index='words', body=query, size=20), args)\n"
     ]
    },
    {
     "name": "stdout",
     "output_type": "stream",
     "text": [
      "Total documents: 10000\n",
      "Doc 973440, score is 15.704821\n",
      "Doc 4900, score is 15.335167\n",
      "Doc 1439087, score is 14.825996\n",
      "Doc 1322917, score is 14.652464\n",
      "Doc 2064714, score is 14.652464\n",
      "Doc 1445071, score is 14.344378\n",
      "Doc 617105, score is 13.750026\n",
      "Doc 2334631, score is 13.677895\n",
      "Doc 1217601, score is 13.677895\n",
      "Doc 1374404, score is 13.677895\n",
      "Doc 1037110, score is 13.481821\n",
      "Doc 2326221, score is 13.323684\n",
      "Doc 325041, score is 13.323684\n",
      "Doc 347207, score is 13.175156\n",
      "Doc 1961850, score is 12.748814\n",
      "Doc 1227346, score is 12.694827\n",
      "Doc 1879210, score is 12.694827\n",
      "Doc 2292393, score is 12.694827\n",
      "Doc 1858796, score is 12.694827\n",
      "Doc 1945210, score is 12.694827\n",
      "CPU times: total: 31.2 ms\n",
      "Wall time: 3.66 s\n"
     ]
    }
   ],
   "source": [
    "%%time\n",
    "\n",
    "query = {\n",
    "    'query': {\n",
    "        'bool': {\n",
    "            'must': {\n",
    "                'match': {\n",
    "                    'text_right': 'great lakes'\n",
    "                }\n",
    "            }\n",
    "        }\n",
    "    }\n",
    "}\n",
    "\n",
    "search(query)"
   ]
  },
  {
   "cell_type": "code",
   "execution_count": 28,
   "id": "9125cda9",
   "metadata": {},
   "outputs": [
    {
     "name": "stderr",
     "output_type": "stream",
     "text": [
      "C:\\Users\\Admin\\AppData\\Local\\Temp\\ipykernel_17908\\2362643977.py:20: DeprecationWarning: The 'body' parameter is deprecated and will be removed in a future version. Instead use individual parameters.\n",
      "  results = es.search(index = 'words', body = query, size = 20)\n"
     ]
    }
   ],
   "source": [
    "import numpy as np\n",
    "\n",
    "q = pd.read_csv('queries.csv')\n",
    "runs = {}\n",
    "\n",
    "q = q.reset_index()\n",
    "runs = {}\n",
    "for ind, row in q.iterrows():\n",
    "    query = {\n",
    "        'query': {\n",
    "            'bool': {\n",
    "                'must': {\n",
    "                    'match': {\n",
    "                        'text_right': row['text_left']\n",
    "                    }\n",
    "                }\n",
    "            }\n",
    "        }\n",
    "    }\n",
    "    results = es.search(index = 'words', body = query, size = 20)\n",
    "    res = results['hits']\n",
    "    temp = {}\n",
    "    for hit in res['hits']:\n",
    "        doc_id = str(hit['_id'])\n",
    "        score = int(round(float(hit['_score'])))\n",
    "        temp[doc_id] = score\n",
    "    runs[str(row['id_left'])] = temp"
   ]
  },
  {
   "cell_type": "code",
   "execution_count": 29,
   "id": "b23b0687",
   "metadata": {},
   "outputs": [],
   "source": [
    "qrel = pd.read_csv('BM25.qrels.csv')\n",
    "qrel = qrel.reset_index()\n",
    "qrels = {}\n",
    "i = 0\n",
    "d = {}\n",
    "sum = 0\n",
    "for ind, row in qrel.iterrows():\n",
    "    if i != 0:\n",
    "        if str(row['id_left']) != temp:\n",
    "            qrels[temp] = d\n",
    "            d = {}\n",
    "            temp = str(row['id_left'])\n",
    "            sum = sum + 1\n",
    "\n",
    "        else:\n",
    "            d[str(row['id_right'])] = int(row['label'])\n",
    "                       \n",
    "    else:\n",
    "        temp = str(row['id_left'])\n",
    "        i = i + 1\n",
    "        d[str(row['id_right'])] = int(row['label'])\n",
    "qrels[str(712704)] = d"
   ]
  },
  {
   "cell_type": "code",
   "execution_count": 39,
   "id": "0bcd3365",
   "metadata": {},
   "outputs": [
    {
     "name": "stdout",
     "output_type": "stream",
     "text": [
      "{AP: 0.428373426272315, P@10: 0.5439999999999996, P@20: 0.5575000000000001}\n"
     ]
    }
   ],
   "source": [
    "import ir_measures\n",
    "from ir_measures import *\n",
    "\n",
    "print(ir_measures.calc_aggregate([P(rel=1)@10, P(rel=1)@20, AP], qrels, runs))"
   ]
  },
  {
   "cell_type": "code",
   "execution_count": 31,
   "id": "0dbb41f2",
   "metadata": {},
   "outputs": [],
   "source": [
    "df = pd.read_csv('BM25.res')\n",
    "\n",
    "i = 0\n",
    "d = {}\n",
    "creators_runs = {}\n",
    "\n",
    "for j in df['158491 Q0 625257 0 15.660703104969318 BM25']:\n",
    "    if i != 0:\n",
    "        if str(j.split()[0]) != temp:\n",
    "                creators_runs[temp] = d\n",
    "                d = {}\n",
    "                temp = str(j.split()[0])\n",
    "\n",
    "        else:\n",
    "                d[str(j.split()[2])] = int(round(float(j.split()[4])))\n",
    "\n",
    "    else:\n",
    "            temp = str(j.split()[0])\n",
    "            i = i + 1\n",
    "            d[str(j.split()[2])] = int(round(float(j.split()[4])))\n",
    "    creators_runs[str(712704)] = d\n",
    "    \n",
    "creators_runs['158491']['625257'] = 15"
   ]
  },
  {
   "cell_type": "code",
   "execution_count": 37,
   "id": "e1890003",
   "metadata": {},
   "outputs": [
    {
     "name": "stdout",
     "output_type": "stream",
     "text": [
      "{P@20: 0.9860000000000005, P@10: 0.9760000000000002, AP: 0.989054295650095}\n"
     ]
    }
   ],
   "source": [
    "print(ir_measures.calc_aggregate([AP, P(rel = 1)@10, P(rel = 1)@20], qrels, creators_runs))"
   ]
  },
  {
   "cell_type": "code",
   "execution_count": 34,
   "id": "0f5b314b",
   "metadata": {},
   "outputs": [
    {
     "name": "stderr",
     "output_type": "stream",
     "text": [
      "C:\\Users\\Admin\\AppData\\Local\\Temp\\ipykernel_17908\\1215358251.py:59: DeprecationWarning: The 'body' parameter is deprecated and will be removed in a future version. Instead use individual parameters.\n",
      "  results = es.search(index = 'words', body = query, size = i)\n",
      "C:\\Users\\Admin\\AppData\\Local\\Temp\\ipykernel_17908\\1215358251.py:59: DeprecationWarning: The 'body' parameter is deprecated and will be removed in a future version. Instead use individual parameters.\n",
      "  results = es.search(index = 'words', body = query, size = i)\n",
      "C:\\Users\\Admin\\AppData\\Local\\Temp\\ipykernel_17908\\1215358251.py:59: DeprecationWarning: The 'body' parameter is deprecated and will be removed in a future version. Instead use individual parameters.\n",
      "  results = es.search(index = 'words', body = query, size = i)\n",
      "C:\\Users\\Admin\\AppData\\Local\\Temp\\ipykernel_17908\\1215358251.py:59: DeprecationWarning: The 'body' parameter is deprecated and will be removed in a future version. Instead use individual parameters.\n",
      "  results = es.search(index = 'words', body = query, size = i)\n",
      "C:\\Users\\Admin\\AppData\\Local\\Temp\\ipykernel_17908\\1215358251.py:59: DeprecationWarning: The 'body' parameter is deprecated and will be removed in a future version. Instead use individual parameters.\n",
      "  results = es.search(index = 'words', body = query, size = i)\n",
      "C:\\Users\\Admin\\AppData\\Local\\Temp\\ipykernel_17908\\1215358251.py:59: DeprecationWarning: The 'body' parameter is deprecated and will be removed in a future version. Instead use individual parameters.\n",
      "  results = es.search(index = 'words', body = query, size = i)\n",
      "C:\\Users\\Admin\\AppData\\Local\\Temp\\ipykernel_17908\\1215358251.py:59: DeprecationWarning: The 'body' parameter is deprecated and will be removed in a future version. Instead use individual parameters.\n",
      "  results = es.search(index = 'words', body = query, size = i)\n",
      "C:\\Users\\Admin\\AppData\\Local\\Temp\\ipykernel_17908\\1215358251.py:59: DeprecationWarning: The 'body' parameter is deprecated and will be removed in a future version. Instead use individual parameters.\n",
      "  results = es.search(index = 'words', body = query, size = i)\n",
      "C:\\Users\\Admin\\AppData\\Local\\Temp\\ipykernel_17908\\1215358251.py:59: DeprecationWarning: The 'body' parameter is deprecated and will be removed in a future version. Instead use individual parameters.\n",
      "  results = es.search(index = 'words', body = query, size = i)\n",
      "C:\\Users\\Admin\\AppData\\Local\\Temp\\ipykernel_17908\\1215358251.py:59: DeprecationWarning: The 'body' parameter is deprecated and will be removed in a future version. Instead use individual parameters.\n",
      "  results = es.search(index = 'words', body = query, size = i)\n",
      "C:\\Users\\Admin\\AppData\\Local\\Temp\\ipykernel_17908\\1215358251.py:59: DeprecationWarning: The 'body' parameter is deprecated and will be removed in a future version. Instead use individual parameters.\n",
      "  results = es.search(index = 'words', body = query, size = i)\n",
      "C:\\Users\\Admin\\AppData\\Local\\Temp\\ipykernel_17908\\1215358251.py:59: DeprecationWarning: The 'body' parameter is deprecated and will be removed in a future version. Instead use individual parameters.\n",
      "  results = es.search(index = 'words', body = query, size = i)\n",
      "C:\\Users\\Admin\\AppData\\Local\\Temp\\ipykernel_17908\\1215358251.py:59: DeprecationWarning: The 'body' parameter is deprecated and will be removed in a future version. Instead use individual parameters.\n",
      "  results = es.search(index = 'words', body = query, size = i)\n",
      "C:\\Users\\Admin\\AppData\\Local\\Temp\\ipykernel_17908\\1215358251.py:59: DeprecationWarning: The 'body' parameter is deprecated and will be removed in a future version. Instead use individual parameters.\n",
      "  results = es.search(index = 'words', body = query, size = i)\n",
      "C:\\Users\\Admin\\AppData\\Local\\Temp\\ipykernel_17908\\1215358251.py:59: DeprecationWarning: The 'body' parameter is deprecated and will be removed in a future version. Instead use individual parameters.\n",
      "  results = es.search(index = 'words', body = query, size = i)\n",
      "C:\\Users\\Admin\\AppData\\Local\\Temp\\ipykernel_17908\\1215358251.py:59: DeprecationWarning: The 'body' parameter is deprecated and will be removed in a future version. Instead use individual parameters.\n",
      "  results = es.search(index = 'words', body = query, size = i)\n",
      "C:\\Users\\Admin\\AppData\\Local\\Temp\\ipykernel_17908\\1215358251.py:59: DeprecationWarning: The 'body' parameter is deprecated and will be removed in a future version. Instead use individual parameters.\n",
      "  results = es.search(index = 'words', body = query, size = i)\n",
      "C:\\Users\\Admin\\AppData\\Local\\Temp\\ipykernel_17908\\1215358251.py:59: DeprecationWarning: The 'body' parameter is deprecated and will be removed in a future version. Instead use individual parameters.\n",
      "  results = es.search(index = 'words', body = query, size = i)\n",
      "C:\\Users\\Admin\\AppData\\Local\\Temp\\ipykernel_17908\\1215358251.py:59: DeprecationWarning: The 'body' parameter is deprecated and will be removed in a future version. Instead use individual parameters.\n",
      "  results = es.search(index = 'words', body = query, size = i)\n",
      "C:\\Users\\Admin\\AppData\\Local\\Temp\\ipykernel_17908\\1215358251.py:59: DeprecationWarning: The 'body' parameter is deprecated and will be removed in a future version. Instead use individual parameters.\n",
      "  results = es.search(index = 'words', body = query, size = i)\n",
      "C:\\Users\\Admin\\AppData\\Local\\Temp\\ipykernel_17908\\1215358251.py:59: DeprecationWarning: The 'body' parameter is deprecated and will be removed in a future version. Instead use individual parameters.\n",
      "  results = es.search(index = 'words', body = query, size = i)\n",
      "C:\\Users\\Admin\\AppData\\Local\\Temp\\ipykernel_17908\\1215358251.py:59: DeprecationWarning: The 'body' parameter is deprecated and will be removed in a future version. Instead use individual parameters.\n",
      "  results = es.search(index = 'words', body = query, size = i)\n",
      "C:\\Users\\Admin\\AppData\\Local\\Temp\\ipykernel_17908\\1215358251.py:59: DeprecationWarning: The 'body' parameter is deprecated and will be removed in a future version. Instead use individual parameters.\n",
      "  results = es.search(index = 'words', body = query, size = i)\n",
      "C:\\Users\\Admin\\AppData\\Local\\Temp\\ipykernel_17908\\1215358251.py:59: DeprecationWarning: The 'body' parameter is deprecated and will be removed in a future version. Instead use individual parameters.\n",
      "  results = es.search(index = 'words', body = query, size = i)\n",
      "C:\\Users\\Admin\\AppData\\Local\\Temp\\ipykernel_17908\\1215358251.py:59: DeprecationWarning: The 'body' parameter is deprecated and will be removed in a future version. Instead use individual parameters.\n",
      "  results = es.search(index = 'words', body = query, size = i)\n",
      "C:\\Users\\Admin\\AppData\\Local\\Temp\\ipykernel_17908\\1215358251.py:59: DeprecationWarning: The 'body' parameter is deprecated and will be removed in a future version. Instead use individual parameters.\n",
      "  results = es.search(index = 'words', body = query, size = i)\n",
      "C:\\Users\\Admin\\AppData\\Local\\Temp\\ipykernel_17908\\1215358251.py:59: DeprecationWarning: The 'body' parameter is deprecated and will be removed in a future version. Instead use individual parameters.\n",
      "  results = es.search(index = 'words', body = query, size = i)\n",
      "C:\\Users\\Admin\\AppData\\Local\\Temp\\ipykernel_17908\\1215358251.py:59: DeprecationWarning: The 'body' parameter is deprecated and will be removed in a future version. Instead use individual parameters.\n",
      "  results = es.search(index = 'words', body = query, size = i)\n",
      "C:\\Users\\Admin\\AppData\\Local\\Temp\\ipykernel_17908\\1215358251.py:59: DeprecationWarning: The 'body' parameter is deprecated and will be removed in a future version. Instead use individual parameters.\n",
      "  results = es.search(index = 'words', body = query, size = i)\n",
      "C:\\Users\\Admin\\AppData\\Local\\Temp\\ipykernel_17908\\1215358251.py:59: DeprecationWarning: The 'body' parameter is deprecated and will be removed in a future version. Instead use individual parameters.\n",
      "  results = es.search(index = 'words', body = query, size = i)\n",
      "C:\\Users\\Admin\\AppData\\Local\\Temp\\ipykernel_17908\\1215358251.py:59: DeprecationWarning: The 'body' parameter is deprecated and will be removed in a future version. Instead use individual parameters.\n",
      "  results = es.search(index = 'words', body = query, size = i)\n",
      "C:\\Users\\Admin\\AppData\\Local\\Temp\\ipykernel_17908\\1215358251.py:59: DeprecationWarning: The 'body' parameter is deprecated and will be removed in a future version. Instead use individual parameters.\n",
      "  results = es.search(index = 'words', body = query, size = i)\n",
      "C:\\Users\\Admin\\AppData\\Local\\Temp\\ipykernel_17908\\1215358251.py:59: DeprecationWarning: The 'body' parameter is deprecated and will be removed in a future version. Instead use individual parameters.\n",
      "  results = es.search(index = 'words', body = query, size = i)\n",
      "C:\\Users\\Admin\\AppData\\Local\\Temp\\ipykernel_17908\\1215358251.py:59: DeprecationWarning: The 'body' parameter is deprecated and will be removed in a future version. Instead use individual parameters.\n",
      "  results = es.search(index = 'words', body = query, size = i)\n",
      "C:\\Users\\Admin\\AppData\\Local\\Temp\\ipykernel_17908\\1215358251.py:59: DeprecationWarning: The 'body' parameter is deprecated and will be removed in a future version. Instead use individual parameters.\n",
      "  results = es.search(index = 'words', body = query, size = i)\n",
      "C:\\Users\\Admin\\AppData\\Local\\Temp\\ipykernel_17908\\1215358251.py:59: DeprecationWarning: The 'body' parameter is deprecated and will be removed in a future version. Instead use individual parameters.\n",
      "  results = es.search(index = 'words', body = query, size = i)\n",
      "C:\\Users\\Admin\\AppData\\Local\\Temp\\ipykernel_17908\\1215358251.py:59: DeprecationWarning: The 'body' parameter is deprecated and will be removed in a future version. Instead use individual parameters.\n",
      "  results = es.search(index = 'words', body = query, size = i)\n",
      "C:\\Users\\Admin\\AppData\\Local\\Temp\\ipykernel_17908\\1215358251.py:59: DeprecationWarning: The 'body' parameter is deprecated and will be removed in a future version. Instead use individual parameters.\n",
      "  results = es.search(index = 'words', body = query, size = i)\n",
      "C:\\Users\\Admin\\AppData\\Local\\Temp\\ipykernel_17908\\1215358251.py:59: DeprecationWarning: The 'body' parameter is deprecated and will be removed in a future version. Instead use individual parameters.\n",
      "  results = es.search(index = 'words', body = query, size = i)\n"
     ]
    }
   ],
   "source": [
    "if stemming_state == 0:\n",
    "\n",
    "    x_map_nostem = []\n",
    "    y = []\n",
    "    for i in range(20, 800, 20):\n",
    "\n",
    "        q = pd.read_csv('queries.csv')\n",
    "        runs = {}\n",
    "\n",
    "        q = q.reset_index()\n",
    "        runs = {}\n",
    "        for ind, row in q.iterrows():\n",
    "            query = {\n",
    "                'query': {\n",
    "                    'bool': {\n",
    "                        'must': {\n",
    "                            'match': {\n",
    "                                'text_right': row['text_left']\n",
    "                            }\n",
    "                        }\n",
    "                    }\n",
    "                }\n",
    "            }\n",
    "            results = es.search(index = 'words', body = query, size = i)\n",
    "            res = results['hits']\n",
    "            temp = {}\n",
    "            for hit in res['hits']:\n",
    "                doc_id = str(hit['_id'])\n",
    "                score = int(round(float(hit['_score'])))\n",
    "                temp[doc_id] = score\n",
    "            runs[str(row['id_left'])] = temp\n",
    "        a = ir_measures.calc_aggregate([AP], qrels, runs)\n",
    "        y.append(i)\n",
    "        x_map_nostem.append(a[AP])\n",
    "    \n",
    "elif stemming_state == 1:\n",
    "    \n",
    "    x_map = []\n",
    "    y = []\n",
    "    for i in range(20, 800, 20):\n",
    "\n",
    "        q = pd.read_csv('queries.csv')\n",
    "        runs = {}\n",
    "\n",
    "        q = q.reset_index()\n",
    "        runs = {}\n",
    "        for ind, row in q.iterrows():\n",
    "            query = {\n",
    "                'query': {\n",
    "                    'bool': {\n",
    "                        'must': {\n",
    "                            'match': {\n",
    "                                'text_right': row['text_left']\n",
    "                            }\n",
    "                        }\n",
    "                    }\n",
    "                }\n",
    "            }\n",
    "            results = es.search(index = 'words', body = query, size = i)\n",
    "            res = results['hits']\n",
    "            temp = {}\n",
    "            for hit in res['hits']:\n",
    "                doc_id = str(hit['_id'])\n",
    "                score = int(round(float(hit['_score'])))\n",
    "                temp[doc_id] = score\n",
    "            runs[str(row['id_left'])] = temp\n",
    "        a = ir_measures.calc_aggregate([AP], qrels, runs)\n",
    "        y.append(i)\n",
    "        x_map.append(a[AP])"
   ]
  },
  {
   "cell_type": "code",
   "execution_count": 35,
   "id": "02e06db6",
   "metadata": {},
   "outputs": [
    {
     "data": {
      "image/png": "[encoded data removed]",
      "text/plain": [
       "<Figure size 640x480 with 1 Axes>"
      ]
     },
     "metadata": {},
     "output_type": "display_data"
    }
   ],
   "source": [
    "import matplotlib.pyplot as plt\n",
    "\n",
    "plt.plot(y, x_map)\n",
    "plt.xlabel('Number of returned documents from query execution with stemming')\n",
    "plt.ylabel('MAP value')\n",
    "plt.title('Graph 1')\n",
    "plt.show()"
   ]
  },
  {
   "cell_type": "code",
   "execution_count": 36,
   "id": "e56aa0ce",
   "metadata": {},
   "outputs": [
    {
     "ename": "NameError",
     "evalue": "name 'x_map_nostem' is not defined",
     "output_type": "error",
     "traceback": [
      "\u001b[1;31m---------------------------------------------------------------------------\u001b[0m",
      "\u001b[1;31mNameError\u001b[0m                                 Traceback (most recent call last)",
      "Input \u001b[1;32mIn [36]\u001b[0m, in \u001b[0;36m<cell line: 3>\u001b[1;34m()\u001b[0m\n\u001b[0;32m      1\u001b[0m \u001b[38;5;28;01mimport\u001b[39;00m \u001b[38;5;21;01mmatplotlib\u001b[39;00m\u001b[38;5;21;01m.\u001b[39;00m\u001b[38;5;21;01mpyplot\u001b[39;00m \u001b[38;5;28;01mas\u001b[39;00m \u001b[38;5;21;01mplt\u001b[39;00m\n\u001b[1;32m----> 3\u001b[0m plt\u001b[38;5;241m.\u001b[39mplot(y, \u001b[43mx_map_nostem\u001b[49m)\n\u001b[0;32m      4\u001b[0m plt\u001b[38;5;241m.\u001b[39mxlabel(\u001b[38;5;124m'\u001b[39m\u001b[38;5;124mNumber of returned documents from query execution without stemming\u001b[39m\u001b[38;5;124m'\u001b[39m)\n\u001b[0;32m      5\u001b[0m plt\u001b[38;5;241m.\u001b[39mylabel(\u001b[38;5;124m'\u001b[39m\u001b[38;5;124mMAP value\u001b[39m\u001b[38;5;124m'\u001b[39m)\n",
      "\u001b[1;31mNameError\u001b[0m: name 'x_map_nostem' is not defined"
     ]
    }
   ],
   "source": [
    "import matplotlib.pyplot as plt\n",
    "\n",
    "plt.plot(y, x_map_nostem)\n",
    "plt.xlabel('Number of returned documents from query execution without stemming')\n",
    "plt.ylabel('MAP value')\n",
    "plt.title('Graph 2')\n",
    "plt.show()"
   ]
  },
  {
   "cell_type": "code",
   "execution_count": 176,
   "id": "b99567bd",
   "metadata": {},
   "outputs": [
    {
     "name": "stdout",
     "output_type": "stream",
     "text": [
      "0.4286660657299366\n",
      "560\n"
     ]
    }
   ],
   "source": [
    "maxmap = np.array(x_map)\n",
    "max_index = maxmap.argmax()\n",
    "print(max(x_map))\n",
    "print(y[max_index])"
   ]
  },
  {
   "cell_type": "code",
   "execution_count": 182,
   "id": "b3dd3d3b",
   "metadata": {},
   "outputs": [
    {
     "name": "stdout",
     "output_type": "stream",
     "text": [
      "0.4286763870445832\n",
      "560\n"
     ]
    }
   ],
   "source": [
    "maxmap_nostem = np.array(x_map_nostem)\n",
    "max_index = maxmap_nostem.argmax()\n",
    "print(max(x_map_nostem))\n",
    "print(y[max_index])"
   ]
  }
 ],
 "metadata": {
  "kernelspec": {
   "display_name": "Python 3 (ipykernel)",
   "language": "python",
   "name": "python3"
  },
  "language_info": {
   "codemirror_mode": {
    "name": "ipython",
    "version": 3
   },
   "file_extension": ".py",
   "mimetype": "text/x-python",
   "name": "python",
   "nbconvert_exporter": "python",
   "pygments_lexer": "ipython3",
   "version": "3.9.13"
  }
 },
 "nbformat": 4,
 "nbformat_minor": 5
}
